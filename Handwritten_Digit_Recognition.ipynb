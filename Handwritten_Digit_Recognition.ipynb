{
  "nbformat": 4,
  "nbformat_minor": 0,
  "metadata": {
    "colab": {
      "provenance": [],
      "gpuType": "T4"
    },
    "kernelspec": {
      "name": "python3",
      "display_name": "Python 3"
    },
    "language_info": {
      "name": "python"
    },
    "accelerator": "GPU"
  },
  "cells": [
    {
      "cell_type": "code",
      "execution_count": null,
      "metadata": {
        "id": "cx3B-8gA8Opi"
      },
      "outputs": [],
      "source": [
        "import os\n",
        "import cv2\n",
        "import numpy as np\n",
        "import matplotlib.pyplot as plt\n",
        "import tensorflow as tf\n",
        "from tensorflow import keras"
      ]
    },
    {
      "cell_type": "code",
      "source": [
        "from keras.datasets import mnist\n",
        "from keras import layers"
      ],
      "metadata": {
        "id": "6zwa5_Fc9DcA"
      },
      "execution_count": null,
      "outputs": []
    },
    {
      "cell_type": "code",
      "source": [
        "#First of all we load the mnist dataset and splits in it train and test dataset\n",
        "(x_train,y_train),(x_test,y_test) = mnist.load_data()\n",
        "\n",
        "# Now we normalize the dataset\n",
        "x_train = tf.keras.utils.normalize(x_train,axis=1)\n",
        "x_test = tf.keras.utils.normalize(x_test,axis=1)"
      ],
      "metadata": {
        "id": "119UJJpl_AEo",
        "colab": {
          "base_uri": "https://localhost:8080/"
        },
        "outputId": "c303d6cb-7eab-4f72-823a-e6bf668821dc"
      },
      "execution_count": null,
      "outputs": [
        {
          "output_type": "stream",
          "name": "stdout",
          "text": [
            "Downloading data from https://storage.googleapis.com/tensorflow/tf-keras-datasets/mnist.npz\n",
            "11490434/11490434 [==============================] - 1s 0us/step\n"
          ]
        }
      ]
    },
    {
      "cell_type": "code",
      "source": [
        "# Now we build the model\n",
        "def cnnmodel():\n",
        "  inputs = keras.Input(shape = (28,28,1))\n",
        "  x = layers.Conv2D(32,3,padding = 'same',activation = 'relu')(inputs)\n",
        "  x = layers.MaxPooling2D()(x)\n",
        "  x = layers.Conv2D(64,3,padding='same',activation='relu')(x)\n",
        "  x = layers.MaxPooling2D()(x)\n",
        "  x = layers.Conv2D(128,3,padding='same',activation='relu')(x)\n",
        "  x = layers.MaxPooling2D()(x)\n",
        "  x = layers.Flatten()(x)\n",
        "  x = layers.Dense(128,activation='relu')(x)\n",
        "  x = layers.Dense(128,activation='relu')(x)\n",
        "  x = layers.Dense(128,activation='relu')(x)\n",
        "  outputs = layers.Dense(10)(x)\n",
        "  model = keras.Model(inputs=inputs, outputs=outputs)\n",
        "  return model"
      ],
      "metadata": {
        "id": "Rh4jetuSA6Qs"
      },
      "execution_count": null,
      "outputs": []
    },
    {
      "cell_type": "code",
      "source": [
        "# Now we compile the model\n",
        "model = cnnmodel()\n",
        "model.compile(optimizer=keras.optimizers.Adam(learning_rate=3e-4),\n",
        "              loss=keras.losses.SparseCategoricalCrossentropy(from_logits=True),\n",
        "              metrics=['accuracy'],)"
      ],
      "metadata": {
        "id": "46-R_204MF5B"
      },
      "execution_count": null,
      "outputs": []
    },
    {
      "cell_type": "code",
      "source": [
        "# Fit the model and evaluate the accuracy on test dataset\n",
        "model.fit(x_train,y_train,batch_size=64,epochs=10,verbose=1)\n",
        "model.evaluate(x_test,y_test,batch_size=64,verbose=2)"
      ],
      "metadata": {
        "colab": {
          "base_uri": "https://localhost:8080/"
        },
        "id": "XM1MJCu2Obd_",
        "outputId": "5e580d17-0578-4875-ce4e-9803860eef47"
      },
      "execution_count": null,
      "outputs": [
        {
          "output_type": "stream",
          "name": "stdout",
          "text": [
            "Epoch 1/10\n",
            "938/938 [==============================] - 17s 5ms/step - loss: 0.3565 - accuracy: 0.8947\n",
            "Epoch 2/10\n",
            "938/938 [==============================] - 5s 5ms/step - loss: 0.0889 - accuracy: 0.9721\n",
            "Epoch 3/10\n",
            "938/938 [==============================] - 5s 6ms/step - loss: 0.0605 - accuracy: 0.9807\n",
            "Epoch 4/10\n",
            "938/938 [==============================] - 5s 5ms/step - loss: 0.0462 - accuracy: 0.9854\n",
            "Epoch 5/10\n",
            "938/938 [==============================] - 5s 6ms/step - loss: 0.0366 - accuracy: 0.9885\n",
            "Epoch 6/10\n",
            "938/938 [==============================] - 5s 5ms/step - loss: 0.0293 - accuracy: 0.9905\n",
            "Epoch 7/10\n",
            "938/938 [==============================] - 5s 5ms/step - loss: 0.0251 - accuracy: 0.9923\n",
            "Epoch 8/10\n",
            "938/938 [==============================] - 5s 5ms/step - loss: 0.0217 - accuracy: 0.9931\n",
            "Epoch 9/10\n",
            "938/938 [==============================] - 5s 5ms/step - loss: 0.0173 - accuracy: 0.9946\n",
            "Epoch 10/10\n",
            "938/938 [==============================] - 5s 5ms/step - loss: 0.0150 - accuracy: 0.9951\n",
            "157/157 - 1s - loss: 0.0353 - accuracy: 0.9895 - 889ms/epoch - 6ms/step\n"
          ]
        },
        {
          "output_type": "execute_result",
          "data": {
            "text/plain": [
              "[0.03527039662003517, 0.9894999861717224]"
            ]
          },
          "metadata": {},
          "execution_count": 6
        }
      ]
    },
    {
      "cell_type": "code",
      "source": [
        "# Predictive System\n",
        "input_image_path = input('Path of image to be predicted: ')\n",
        "\n",
        "input_image = cv2.imread(input_image_path)\n",
        "\n",
        "cv2_imshow = input_image\n",
        "\n",
        "if np.shape(input_image) == ():\n",
        "  print(\"Image shape is None insert numpy shape image\")\n",
        "else:\n",
        "  grayscale = cv2.cvtColor(input_image,cv2.COLOR_RGB2GRAY)\n",
        "\n",
        "  input_image_resize = cv2.resize(input_image,(28,28))\n",
        "\n",
        "  input_image_resize = input_image_resize/255\n",
        "\n",
        "  image_reshaped = np.reshape(input_image_resize,[1,28,28])\n",
        "\n",
        "  input_prediction = model.predict(image_reshaped)\n",
        "\n",
        "  input_pred_label = np.argmax(input_prediction)\n",
        "\n",
        "  print('The Handwritten Digit is recognised as ',input_pred_label)"
      ],
      "metadata": {
        "id": "zIO2RCRvO-5b",
        "colab": {
          "base_uri": "https://localhost:8080/"
        },
        "outputId": "312de54c-cdcb-4e01-f15e-3b5030748dfe"
      },
      "execution_count": null,
      "outputs": [
        {
          "output_type": "stream",
          "name": "stdout",
          "text": [
            "Path of image to be predicted: https://drive.google.com/file/d/1QmhKf8cZxrMYbDZ2pmukUuUI4a7WDA9I/view?usp=drive_link\n",
            "Image shape is None insert numpy shape image\n"
          ]
        }
      ]
    },
    {
      "cell_type": "code",
      "source": [],
      "metadata": {
        "id": "psgsaEWyfEq5"
      },
      "execution_count": null,
      "outputs": []
    }
  ]
}